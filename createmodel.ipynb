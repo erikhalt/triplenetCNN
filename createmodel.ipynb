{
 "cells": [
  {
   "cell_type": "code",
   "execution_count": 1,
   "metadata": {},
   "outputs": [],
   "source": [
    "import tensorflow as tf\n",
    "import keras\n",
    "import numpy as np"
   ]
  },
  {
   "cell_type": "code",
   "execution_count": 33,
   "metadata": {},
   "outputs": [],
   "source": [
    "model = tf.keras.models.Sequential()\n",
    "model.add(tf.keras.layers.Conv2D(1,3, activation='relu', input_shape=(120,120,3)))\n",
    "model.add(tf.keras.layers.Conv2D(1,3, activation='relu'))\n",
    "model.add(tf.keras.layers.MaxPooling2D())\n",
    "model.add(tf.keras.layers.Conv2D(1,3, activation='relu'))\n",
    "model.add(tf.keras.layers.Conv2D(1,3, activation='relu'))\n",
    "model.add(tf.keras.layers.MaxPooling2D())\n",
    "model.add(tf.keras.layers.Conv2D(1,3, activation='relu'))\n",
    "model.add(tf.keras.layers.Conv2D(1,3, activation='relu'))\n",
    "model.add(tf.keras.layers.MaxPooling2D())\n",
    "model.add(tf.keras.layers.Conv2D(1,3, activation='relu'))\n",
    "model.add(tf.keras.layers.Conv2D(1,3, activation='relu'))\n",
    "model.add(tf.keras.layers.MaxPooling2D())\n",
    "model.add(tf.keras.layers.Dense(128,activation='relu'))\n",
    "model.add(tf.keras.layers.Dense(10))\n"
   ]
  },
  {
   "cell_type": "code",
   "execution_count": 34,
   "metadata": {},
   "outputs": [],
   "source": [
    "model.compile(optimizer='adam',metrics=['accuracy'])"
   ]
  },
  {
   "cell_type": "code",
   "execution_count": 35,
   "metadata": {},
   "outputs": [
    {
     "name": "stdout",
     "output_type": "stream",
     "text": [
      "Model: \"sequential_11\"\n",
      "_________________________________________________________________\n",
      " Layer (type)                Output Shape              Param #   \n",
      "=================================================================\n",
      " conv2d_32 (Conv2D)          (None, 118, 118, 1)       28        \n",
      "                                                                 \n",
      " conv2d_33 (Conv2D)          (None, 116, 116, 1)       10        \n",
      "                                                                 \n",
      " max_pooling2d_16 (MaxPooli  (None, 58, 58, 1)         0         \n",
      " ng2D)                                                           \n",
      "                                                                 \n",
      " conv2d_34 (Conv2D)          (None, 56, 56, 1)         10        \n",
      "                                                                 \n",
      " conv2d_35 (Conv2D)          (None, 54, 54, 1)         10        \n",
      "                                                                 \n",
      " max_pooling2d_17 (MaxPooli  (None, 27, 27, 1)         0         \n",
      " ng2D)                                                           \n",
      "                                                                 \n",
      " conv2d_36 (Conv2D)          (None, 25, 25, 1)         10        \n",
      "                                                                 \n",
      " conv2d_37 (Conv2D)          (None, 23, 23, 1)         10        \n",
      "                                                                 \n",
      " max_pooling2d_18 (MaxPooli  (None, 11, 11, 1)         0         \n",
      " ng2D)                                                           \n",
      "                                                                 \n",
      " conv2d_38 (Conv2D)          (None, 9, 9, 1)           10        \n",
      "                                                                 \n",
      " conv2d_39 (Conv2D)          (None, 7, 7, 1)           10        \n",
      "                                                                 \n",
      " max_pooling2d_19 (MaxPooli  (None, 3, 3, 1)           0         \n",
      " ng2D)                                                           \n",
      "                                                                 \n",
      " dense_2 (Dense)             (None, 3, 3, 128)         256       \n",
      "                                                                 \n",
      " dense_3 (Dense)             (None, 3, 3, 10)          1290      \n",
      "                                                                 \n",
      "=================================================================\n",
      "Total params: 1644 (6.42 KB)\n",
      "Trainable params: 1644 (6.42 KB)\n",
      "Non-trainable params: 0 (0.00 Byte)\n",
      "_________________________________________________________________\n"
     ]
    }
   ],
   "source": [
    "model.summary()"
   ]
  },
  {
   "cell_type": "code",
   "execution_count": null,
   "metadata": {},
   "outputs": [],
   "source": []
  }
 ],
 "metadata": {
  "kernelspec": {
   "display_name": "env",
   "language": "python",
   "name": "python3"
  },
  "language_info": {
   "codemirror_mode": {
    "name": "ipython",
    "version": 3
   },
   "file_extension": ".py",
   "mimetype": "text/x-python",
   "name": "python",
   "nbconvert_exporter": "python",
   "pygments_lexer": "ipython3",
   "version": "3.10.11"
  },
  "orig_nbformat": 4
 },
 "nbformat": 4,
 "nbformat_minor": 2
}
